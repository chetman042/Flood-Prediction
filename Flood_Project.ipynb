{
 "cells": [
  {
   "cell_type": "markdown",
   "id": "feb43eb9",
   "metadata": {},
   "source": [
    "## Flood Prediction\n",
    "\n",
    "Predicting whether there will be flood or not using classification algorithms: Logistic Regression, Support Vector Machine,\n",
    "K Nearest Neighbor, Random Forest and Gradient Boosting and determining the algorithm with the optimum performance."
   ]
  },
  {
   "cell_type": "code",
   "execution_count": 1,
   "id": "d079eb0b",
   "metadata": {},
   "outputs": [],
   "source": [
    "# import libraries\n",
    "import pandas as pd\n",
    "import warnings\n",
    "warnings.filterwarnings('ignore')\n",
    "\n",
    "from sklearn.model_selection import train_test_split\n",
    "from sklearn.metrics import confusion_matrix, accuracy_score, classification_report\n",
    "from sklearn.linear_model import LogisticRegression\n",
    "from sklearn.svm import SVC \n",
    "from sklearn import neighbors\n",
    "from sklearn.ensemble import RandomForestClassifier\n",
    "from sklearn.ensemble import GradientBoostingClassifier\n"
   ]
  },
  {
   "cell_type": "code",
   "execution_count": 2,
   "id": "fd335761",
   "metadata": {},
   "outputs": [],
   "source": [
    "df = pd.read_csv(r\"../data/FloodPred.csv\")"
   ]
  },
  {
   "cell_type": "code",
   "execution_count": 8,
   "id": "9ff3e278",
   "metadata": {},
   "outputs": [
    {
     "data": {
      "text/html": [
       "<div>\n",
       "<style scoped>\n",
       "    .dataframe tbody tr th:only-of-type {\n",
       "        vertical-align: middle;\n",
       "    }\n",
       "\n",
       "    .dataframe tbody tr th {\n",
       "        vertical-align: top;\n",
       "    }\n",
       "\n",
       "    .dataframe thead th {\n",
       "        text-align: right;\n",
       "    }\n",
       "</style>\n",
       "<table border=\"1\" class=\"dataframe\">\n",
       "  <thead>\n",
       "    <tr style=\"text-align: right;\">\n",
       "      <th></th>\n",
       "      <th>SUBDIVISION</th>\n",
       "      <th>YEAR</th>\n",
       "      <th>JAN</th>\n",
       "      <th>FEB</th>\n",
       "      <th>MAR</th>\n",
       "      <th>APR</th>\n",
       "      <th>MAY</th>\n",
       "      <th>JUN</th>\n",
       "      <th>JUL</th>\n",
       "      <th>AUG</th>\n",
       "      <th>SEP</th>\n",
       "      <th>OCT</th>\n",
       "      <th>NOV</th>\n",
       "      <th>DEC</th>\n",
       "      <th>ANNUAL RAINFALL</th>\n",
       "      <th>FLOODS</th>\n",
       "    </tr>\n",
       "  </thead>\n",
       "  <tbody>\n",
       "    <tr>\n",
       "      <th>0</th>\n",
       "      <td>Suncity</td>\n",
       "      <td>1901</td>\n",
       "      <td>28.7</td>\n",
       "      <td>44.7</td>\n",
       "      <td>51.6</td>\n",
       "      <td>160.0</td>\n",
       "      <td>174.7</td>\n",
       "      <td>824.6</td>\n",
       "      <td>743.0</td>\n",
       "      <td>357.5</td>\n",
       "      <td>197.7</td>\n",
       "      <td>266.9</td>\n",
       "      <td>350.8</td>\n",
       "      <td>48.4</td>\n",
       "      <td>3248.6</td>\n",
       "      <td>YES</td>\n",
       "    </tr>\n",
       "    <tr>\n",
       "      <th>1</th>\n",
       "      <td>Suncity</td>\n",
       "      <td>1902</td>\n",
       "      <td>6.7</td>\n",
       "      <td>2.6</td>\n",
       "      <td>57.3</td>\n",
       "      <td>83.9</td>\n",
       "      <td>134.5</td>\n",
       "      <td>390.9</td>\n",
       "      <td>1205.0</td>\n",
       "      <td>315.8</td>\n",
       "      <td>491.6</td>\n",
       "      <td>358.4</td>\n",
       "      <td>158.3</td>\n",
       "      <td>121.5</td>\n",
       "      <td>3326.6</td>\n",
       "      <td>YES</td>\n",
       "    </tr>\n",
       "    <tr>\n",
       "      <th>2</th>\n",
       "      <td>Suncity</td>\n",
       "      <td>1903</td>\n",
       "      <td>3.2</td>\n",
       "      <td>18.6</td>\n",
       "      <td>3.1</td>\n",
       "      <td>83.6</td>\n",
       "      <td>249.7</td>\n",
       "      <td>558.6</td>\n",
       "      <td>1022.5</td>\n",
       "      <td>420.2</td>\n",
       "      <td>341.8</td>\n",
       "      <td>354.1</td>\n",
       "      <td>157.0</td>\n",
       "      <td>59.0</td>\n",
       "      <td>3271.2</td>\n",
       "      <td>YES</td>\n",
       "    </tr>\n",
       "    <tr>\n",
       "      <th>3</th>\n",
       "      <td>Suncity</td>\n",
       "      <td>1904</td>\n",
       "      <td>23.7</td>\n",
       "      <td>3.0</td>\n",
       "      <td>32.2</td>\n",
       "      <td>71.5</td>\n",
       "      <td>235.7</td>\n",
       "      <td>1098.2</td>\n",
       "      <td>725.5</td>\n",
       "      <td>351.8</td>\n",
       "      <td>222.7</td>\n",
       "      <td>328.1</td>\n",
       "      <td>33.9</td>\n",
       "      <td>3.3</td>\n",
       "      <td>3129.7</td>\n",
       "      <td>YES</td>\n",
       "    </tr>\n",
       "    <tr>\n",
       "      <th>4</th>\n",
       "      <td>Suncity</td>\n",
       "      <td>1905</td>\n",
       "      <td>1.2</td>\n",
       "      <td>22.3</td>\n",
       "      <td>9.4</td>\n",
       "      <td>105.9</td>\n",
       "      <td>263.3</td>\n",
       "      <td>850.2</td>\n",
       "      <td>520.5</td>\n",
       "      <td>293.6</td>\n",
       "      <td>217.2</td>\n",
       "      <td>383.5</td>\n",
       "      <td>74.4</td>\n",
       "      <td>0.2</td>\n",
       "      <td>2741.6</td>\n",
       "      <td>NO</td>\n",
       "    </tr>\n",
       "    <tr>\n",
       "      <th>5</th>\n",
       "      <td>Suncity</td>\n",
       "      <td>1906</td>\n",
       "      <td>26.7</td>\n",
       "      <td>7.4</td>\n",
       "      <td>9.9</td>\n",
       "      <td>59.4</td>\n",
       "      <td>160.8</td>\n",
       "      <td>414.9</td>\n",
       "      <td>954.2</td>\n",
       "      <td>442.8</td>\n",
       "      <td>131.2</td>\n",
       "      <td>251.7</td>\n",
       "      <td>163.1</td>\n",
       "      <td>86.0</td>\n",
       "      <td>2708.0</td>\n",
       "      <td>NO</td>\n",
       "    </tr>\n",
       "    <tr>\n",
       "      <th>6</th>\n",
       "      <td>Suncity</td>\n",
       "      <td>1907</td>\n",
       "      <td>18.8</td>\n",
       "      <td>4.8</td>\n",
       "      <td>55.7</td>\n",
       "      <td>170.8</td>\n",
       "      <td>101.4</td>\n",
       "      <td>770.9</td>\n",
       "      <td>760.4</td>\n",
       "      <td>981.5</td>\n",
       "      <td>225.0</td>\n",
       "      <td>309.7</td>\n",
       "      <td>219.1</td>\n",
       "      <td>52.8</td>\n",
       "      <td>3671.1</td>\n",
       "      <td>YES</td>\n",
       "    </tr>\n",
       "    <tr>\n",
       "      <th>7</th>\n",
       "      <td>Suncity</td>\n",
       "      <td>1908</td>\n",
       "      <td>8.0</td>\n",
       "      <td>20.8</td>\n",
       "      <td>38.2</td>\n",
       "      <td>102.9</td>\n",
       "      <td>142.6</td>\n",
       "      <td>592.6</td>\n",
       "      <td>902.2</td>\n",
       "      <td>352.9</td>\n",
       "      <td>175.9</td>\n",
       "      <td>253.3</td>\n",
       "      <td>47.9</td>\n",
       "      <td>11.0</td>\n",
       "      <td>2648.3</td>\n",
       "      <td>NO</td>\n",
       "    </tr>\n",
       "    <tr>\n",
       "      <th>8</th>\n",
       "      <td>Suncity</td>\n",
       "      <td>1909</td>\n",
       "      <td>54.1</td>\n",
       "      <td>11.8</td>\n",
       "      <td>61.3</td>\n",
       "      <td>93.8</td>\n",
       "      <td>473.2</td>\n",
       "      <td>704.7</td>\n",
       "      <td>782.3</td>\n",
       "      <td>258.0</td>\n",
       "      <td>195.4</td>\n",
       "      <td>212.1</td>\n",
       "      <td>171.1</td>\n",
       "      <td>32.3</td>\n",
       "      <td>3050.2</td>\n",
       "      <td>YES</td>\n",
       "    </tr>\n",
       "    <tr>\n",
       "      <th>9</th>\n",
       "      <td>Suncity</td>\n",
       "      <td>1910</td>\n",
       "      <td>2.7</td>\n",
       "      <td>25.7</td>\n",
       "      <td>23.3</td>\n",
       "      <td>124.5</td>\n",
       "      <td>148.8</td>\n",
       "      <td>680.0</td>\n",
       "      <td>484.1</td>\n",
       "      <td>473.8</td>\n",
       "      <td>248.6</td>\n",
       "      <td>356.6</td>\n",
       "      <td>280.4</td>\n",
       "      <td>0.1</td>\n",
       "      <td>2848.6</td>\n",
       "      <td>NO</td>\n",
       "    </tr>\n",
       "  </tbody>\n",
       "</table>\n",
       "</div>"
      ],
      "text/plain": [
       "  SUBDIVISION  YEAR   JAN   FEB   MAR    APR    MAY     JUN     JUL    AUG  \\\n",
       "0     Suncity  1901  28.7  44.7  51.6  160.0  174.7   824.6   743.0  357.5   \n",
       "1     Suncity  1902   6.7   2.6  57.3   83.9  134.5   390.9  1205.0  315.8   \n",
       "2     Suncity  1903   3.2  18.6   3.1   83.6  249.7   558.6  1022.5  420.2   \n",
       "3     Suncity  1904  23.7   3.0  32.2   71.5  235.7  1098.2   725.5  351.8   \n",
       "4     Suncity  1905   1.2  22.3   9.4  105.9  263.3   850.2   520.5  293.6   \n",
       "5     Suncity  1906  26.7   7.4   9.9   59.4  160.8   414.9   954.2  442.8   \n",
       "6     Suncity  1907  18.8   4.8  55.7  170.8  101.4   770.9   760.4  981.5   \n",
       "7     Suncity  1908   8.0  20.8  38.2  102.9  142.6   592.6   902.2  352.9   \n",
       "8     Suncity  1909  54.1  11.8  61.3   93.8  473.2   704.7   782.3  258.0   \n",
       "9     Suncity  1910   2.7  25.7  23.3  124.5  148.8   680.0   484.1  473.8   \n",
       "\n",
       "     SEP    OCT    NOV    DEC   ANNUAL RAINFALL FLOODS  \n",
       "0  197.7  266.9  350.8   48.4            3248.6    YES  \n",
       "1  491.6  358.4  158.3  121.5            3326.6    YES  \n",
       "2  341.8  354.1  157.0   59.0            3271.2    YES  \n",
       "3  222.7  328.1   33.9    3.3            3129.7    YES  \n",
       "4  217.2  383.5   74.4    0.2            2741.6     NO  \n",
       "5  131.2  251.7  163.1   86.0            2708.0     NO  \n",
       "6  225.0  309.7  219.1   52.8            3671.1    YES  \n",
       "7  175.9  253.3   47.9   11.0            2648.3     NO  \n",
       "8  195.4  212.1  171.1   32.3            3050.2    YES  \n",
       "9  248.6  356.6  280.4    0.1            2848.6     NO  "
      ]
     },
     "execution_count": 8,
     "metadata": {},
     "output_type": "execute_result"
    }
   ],
   "source": [
    "df.head(10)"
   ]
  },
  {
   "cell_type": "code",
   "execution_count": 21,
   "id": "9b6ecf04",
   "metadata": {},
   "outputs": [
    {
     "data": {
      "text/plain": [
       "(118, 16)"
      ]
     },
     "execution_count": 21,
     "metadata": {},
     "output_type": "execute_result"
    }
   ],
   "source": [
    "df.shape"
   ]
  },
  {
   "cell_type": "code",
   "execution_count": 4,
   "id": "ab5f1c6d",
   "metadata": {},
   "outputs": [
    {
     "data": {
      "text/plain": [
       "Index(['SUBDIVISION', 'YEAR', 'JAN', 'FEB', 'MAR', 'APR', 'MAY', 'JUN', 'JUL',\n",
       "       'AUG', 'SEP', 'OCT', 'NOV', 'DEC', ' ANNUAL RAINFALL', 'FLOODS'],\n",
       "      dtype='object')"
      ]
     },
     "execution_count": 4,
     "metadata": {},
     "output_type": "execute_result"
    }
   ],
   "source": [
    "df.columns"
   ]
  },
  {
   "cell_type": "code",
   "execution_count": 3,
   "id": "6ee112c2",
   "metadata": {},
   "outputs": [],
   "source": [
    "# converting the Class variable\n",
    "df.FLOODS = df.FLOODS.replace(['YES','NO'],(1,0))"
   ]
  },
  {
   "cell_type": "code",
   "execution_count": 13,
   "id": "757f3a7f",
   "metadata": {},
   "outputs": [
    {
     "data": {
      "text/plain": [
       "array([1, 0], dtype=int64)"
      ]
     },
     "execution_count": 13,
     "metadata": {},
     "output_type": "execute_result"
    }
   ],
   "source": [
    "df.FLOODS.unique()"
   ]
  },
  {
   "cell_type": "code",
   "execution_count": 4,
   "id": "34ea0301",
   "metadata": {},
   "outputs": [],
   "source": [
    "# Removing unecessary features\n",
    "subData = df[['JAN', 'FEB', 'MAR', 'APR', 'MAY', 'JUN', 'JUL', 'AUG', 'SEP', 'OCT', 'NOV', 'DEC', ' ANNUAL RAINFALL', 'FLOODS']]"
   ]
  },
  {
   "cell_type": "code",
   "execution_count": 15,
   "id": "d28eed11",
   "metadata": {},
   "outputs": [
    {
     "data": {
      "text/html": [
       "<div>\n",
       "<style scoped>\n",
       "    .dataframe tbody tr th:only-of-type {\n",
       "        vertical-align: middle;\n",
       "    }\n",
       "\n",
       "    .dataframe tbody tr th {\n",
       "        vertical-align: top;\n",
       "    }\n",
       "\n",
       "    .dataframe thead th {\n",
       "        text-align: right;\n",
       "    }\n",
       "</style>\n",
       "<table border=\"1\" class=\"dataframe\">\n",
       "  <thead>\n",
       "    <tr style=\"text-align: right;\">\n",
       "      <th></th>\n",
       "      <th>JAN</th>\n",
       "      <th>FEB</th>\n",
       "      <th>MAR</th>\n",
       "      <th>APR</th>\n",
       "      <th>MAY</th>\n",
       "      <th>JUN</th>\n",
       "      <th>JUL</th>\n",
       "      <th>AUG</th>\n",
       "      <th>SEP</th>\n",
       "      <th>OCT</th>\n",
       "      <th>NOV</th>\n",
       "      <th>DEC</th>\n",
       "      <th>ANNUAL RAINFALL</th>\n",
       "      <th>FLOODS</th>\n",
       "    </tr>\n",
       "  </thead>\n",
       "  <tbody>\n",
       "    <tr>\n",
       "      <th>0</th>\n",
       "      <td>28.7</td>\n",
       "      <td>44.7</td>\n",
       "      <td>51.6</td>\n",
       "      <td>160.0</td>\n",
       "      <td>174.7</td>\n",
       "      <td>824.6</td>\n",
       "      <td>743.0</td>\n",
       "      <td>357.5</td>\n",
       "      <td>197.7</td>\n",
       "      <td>266.9</td>\n",
       "      <td>350.8</td>\n",
       "      <td>48.4</td>\n",
       "      <td>3248.6</td>\n",
       "      <td>1</td>\n",
       "    </tr>\n",
       "    <tr>\n",
       "      <th>1</th>\n",
       "      <td>6.7</td>\n",
       "      <td>2.6</td>\n",
       "      <td>57.3</td>\n",
       "      <td>83.9</td>\n",
       "      <td>134.5</td>\n",
       "      <td>390.9</td>\n",
       "      <td>1205.0</td>\n",
       "      <td>315.8</td>\n",
       "      <td>491.6</td>\n",
       "      <td>358.4</td>\n",
       "      <td>158.3</td>\n",
       "      <td>121.5</td>\n",
       "      <td>3326.6</td>\n",
       "      <td>1</td>\n",
       "    </tr>\n",
       "    <tr>\n",
       "      <th>2</th>\n",
       "      <td>3.2</td>\n",
       "      <td>18.6</td>\n",
       "      <td>3.1</td>\n",
       "      <td>83.6</td>\n",
       "      <td>249.7</td>\n",
       "      <td>558.6</td>\n",
       "      <td>1022.5</td>\n",
       "      <td>420.2</td>\n",
       "      <td>341.8</td>\n",
       "      <td>354.1</td>\n",
       "      <td>157.0</td>\n",
       "      <td>59.0</td>\n",
       "      <td>3271.2</td>\n",
       "      <td>1</td>\n",
       "    </tr>\n",
       "    <tr>\n",
       "      <th>3</th>\n",
       "      <td>23.7</td>\n",
       "      <td>3.0</td>\n",
       "      <td>32.2</td>\n",
       "      <td>71.5</td>\n",
       "      <td>235.7</td>\n",
       "      <td>1098.2</td>\n",
       "      <td>725.5</td>\n",
       "      <td>351.8</td>\n",
       "      <td>222.7</td>\n",
       "      <td>328.1</td>\n",
       "      <td>33.9</td>\n",
       "      <td>3.3</td>\n",
       "      <td>3129.7</td>\n",
       "      <td>1</td>\n",
       "    </tr>\n",
       "    <tr>\n",
       "      <th>4</th>\n",
       "      <td>1.2</td>\n",
       "      <td>22.3</td>\n",
       "      <td>9.4</td>\n",
       "      <td>105.9</td>\n",
       "      <td>263.3</td>\n",
       "      <td>850.2</td>\n",
       "      <td>520.5</td>\n",
       "      <td>293.6</td>\n",
       "      <td>217.2</td>\n",
       "      <td>383.5</td>\n",
       "      <td>74.4</td>\n",
       "      <td>0.2</td>\n",
       "      <td>2741.6</td>\n",
       "      <td>0</td>\n",
       "    </tr>\n",
       "    <tr>\n",
       "      <th>...</th>\n",
       "      <td>...</td>\n",
       "      <td>...</td>\n",
       "      <td>...</td>\n",
       "      <td>...</td>\n",
       "      <td>...</td>\n",
       "      <td>...</td>\n",
       "      <td>...</td>\n",
       "      <td>...</td>\n",
       "      <td>...</td>\n",
       "      <td>...</td>\n",
       "      <td>...</td>\n",
       "      <td>...</td>\n",
       "      <td>...</td>\n",
       "      <td>...</td>\n",
       "    </tr>\n",
       "    <tr>\n",
       "      <th>113</th>\n",
       "      <td>4.6</td>\n",
       "      <td>10.3</td>\n",
       "      <td>17.9</td>\n",
       "      <td>95.7</td>\n",
       "      <td>251.0</td>\n",
       "      <td>454.4</td>\n",
       "      <td>677.8</td>\n",
       "      <td>733.9</td>\n",
       "      <td>298.8</td>\n",
       "      <td>355.5</td>\n",
       "      <td>99.5</td>\n",
       "      <td>47.2</td>\n",
       "      <td>3046.4</td>\n",
       "      <td>1</td>\n",
       "    </tr>\n",
       "    <tr>\n",
       "      <th>114</th>\n",
       "      <td>3.1</td>\n",
       "      <td>5.8</td>\n",
       "      <td>50.1</td>\n",
       "      <td>214.1</td>\n",
       "      <td>201.8</td>\n",
       "      <td>563.6</td>\n",
       "      <td>406.0</td>\n",
       "      <td>252.2</td>\n",
       "      <td>292.9</td>\n",
       "      <td>308.1</td>\n",
       "      <td>223.6</td>\n",
       "      <td>79.4</td>\n",
       "      <td>2600.6</td>\n",
       "      <td>0</td>\n",
       "    </tr>\n",
       "    <tr>\n",
       "      <th>115</th>\n",
       "      <td>2.4</td>\n",
       "      <td>3.8</td>\n",
       "      <td>35.9</td>\n",
       "      <td>143.0</td>\n",
       "      <td>186.4</td>\n",
       "      <td>522.2</td>\n",
       "      <td>412.3</td>\n",
       "      <td>325.5</td>\n",
       "      <td>173.2</td>\n",
       "      <td>225.9</td>\n",
       "      <td>125.4</td>\n",
       "      <td>23.6</td>\n",
       "      <td>2176.6</td>\n",
       "      <td>0</td>\n",
       "    </tr>\n",
       "    <tr>\n",
       "      <th>116</th>\n",
       "      <td>1.9</td>\n",
       "      <td>6.8</td>\n",
       "      <td>8.9</td>\n",
       "      <td>43.6</td>\n",
       "      <td>173.5</td>\n",
       "      <td>498.5</td>\n",
       "      <td>319.6</td>\n",
       "      <td>531.8</td>\n",
       "      <td>209.5</td>\n",
       "      <td>192.4</td>\n",
       "      <td>92.5</td>\n",
       "      <td>38.1</td>\n",
       "      <td>2117.1</td>\n",
       "      <td>0</td>\n",
       "    </tr>\n",
       "    <tr>\n",
       "      <th>117</th>\n",
       "      <td>29.1</td>\n",
       "      <td>52.1</td>\n",
       "      <td>48.6</td>\n",
       "      <td>116.4</td>\n",
       "      <td>183.8</td>\n",
       "      <td>625.4</td>\n",
       "      <td>1048.5</td>\n",
       "      <td>1398.9</td>\n",
       "      <td>423.6</td>\n",
       "      <td>356.1</td>\n",
       "      <td>125.4</td>\n",
       "      <td>65.1</td>\n",
       "      <td>4473.0</td>\n",
       "      <td>1</td>\n",
       "    </tr>\n",
       "  </tbody>\n",
       "</table>\n",
       "<p>118 rows × 14 columns</p>\n",
       "</div>"
      ],
      "text/plain": [
       "      JAN   FEB   MAR    APR    MAY     JUN     JUL     AUG    SEP    OCT  \\\n",
       "0    28.7  44.7  51.6  160.0  174.7   824.6   743.0   357.5  197.7  266.9   \n",
       "1     6.7   2.6  57.3   83.9  134.5   390.9  1205.0   315.8  491.6  358.4   \n",
       "2     3.2  18.6   3.1   83.6  249.7   558.6  1022.5   420.2  341.8  354.1   \n",
       "3    23.7   3.0  32.2   71.5  235.7  1098.2   725.5   351.8  222.7  328.1   \n",
       "4     1.2  22.3   9.4  105.9  263.3   850.2   520.5   293.6  217.2  383.5   \n",
       "..    ...   ...   ...    ...    ...     ...     ...     ...    ...    ...   \n",
       "113   4.6  10.3  17.9   95.7  251.0   454.4   677.8   733.9  298.8  355.5   \n",
       "114   3.1   5.8  50.1  214.1  201.8   563.6   406.0   252.2  292.9  308.1   \n",
       "115   2.4   3.8  35.9  143.0  186.4   522.2   412.3   325.5  173.2  225.9   \n",
       "116   1.9   6.8   8.9   43.6  173.5   498.5   319.6   531.8  209.5  192.4   \n",
       "117  29.1  52.1  48.6  116.4  183.8   625.4  1048.5  1398.9  423.6  356.1   \n",
       "\n",
       "       NOV    DEC   ANNUAL RAINFALL  FLOODS  \n",
       "0    350.8   48.4            3248.6       1  \n",
       "1    158.3  121.5            3326.6       1  \n",
       "2    157.0   59.0            3271.2       1  \n",
       "3     33.9    3.3            3129.7       1  \n",
       "4     74.4    0.2            2741.6       0  \n",
       "..     ...    ...               ...     ...  \n",
       "113   99.5   47.2            3046.4       1  \n",
       "114  223.6   79.4            2600.6       0  \n",
       "115  125.4   23.6            2176.6       0  \n",
       "116   92.5   38.1            2117.1       0  \n",
       "117  125.4   65.1            4473.0       1  \n",
       "\n",
       "[118 rows x 14 columns]"
      ]
     },
     "execution_count": 15,
     "metadata": {},
     "output_type": "execute_result"
    }
   ],
   "source": [
    "subData"
   ]
  },
  {
   "cell_type": "code",
   "execution_count": 16,
   "id": "f655d272",
   "metadata": {},
   "outputs": [
    {
     "name": "stdout",
     "output_type": "stream",
     "text": [
      "<class 'pandas.core.frame.DataFrame'>\n",
      "RangeIndex: 118 entries, 0 to 117\n",
      "Data columns (total 14 columns):\n",
      " #   Column            Non-Null Count  Dtype  \n",
      "---  ------            --------------  -----  \n",
      " 0   JAN               118 non-null    float64\n",
      " 1   FEB               118 non-null    float64\n",
      " 2   MAR               118 non-null    float64\n",
      " 3   APR               118 non-null    float64\n",
      " 4   MAY               118 non-null    float64\n",
      " 5   JUN               118 non-null    float64\n",
      " 6   JUL               118 non-null    float64\n",
      " 7   AUG               118 non-null    float64\n",
      " 8   SEP               118 non-null    float64\n",
      " 9   OCT               118 non-null    float64\n",
      " 10  NOV               118 non-null    float64\n",
      " 11  DEC               118 non-null    float64\n",
      " 12   ANNUAL RAINFALL  118 non-null    float64\n",
      " 13  FLOODS            118 non-null    int64  \n",
      "dtypes: float64(13), int64(1)\n",
      "memory usage: 13.0 KB\n"
     ]
    }
   ],
   "source": [
    "# Check data types and structure\n",
    "subData.info()"
   ]
  },
  {
   "cell_type": "code",
   "execution_count": 17,
   "id": "3cdbf7c0",
   "metadata": {},
   "outputs": [
    {
     "data": {
      "text/html": [
       "<div>\n",
       "<style scoped>\n",
       "    .dataframe tbody tr th:only-of-type {\n",
       "        vertical-align: middle;\n",
       "    }\n",
       "\n",
       "    .dataframe tbody tr th {\n",
       "        vertical-align: top;\n",
       "    }\n",
       "\n",
       "    .dataframe thead th {\n",
       "        text-align: right;\n",
       "    }\n",
       "</style>\n",
       "<table border=\"1\" class=\"dataframe\">\n",
       "  <thead>\n",
       "    <tr style=\"text-align: right;\">\n",
       "      <th></th>\n",
       "      <th>JAN</th>\n",
       "      <th>FEB</th>\n",
       "      <th>MAR</th>\n",
       "      <th>APR</th>\n",
       "      <th>MAY</th>\n",
       "      <th>JUN</th>\n",
       "      <th>JUL</th>\n",
       "      <th>AUG</th>\n",
       "      <th>SEP</th>\n",
       "      <th>OCT</th>\n",
       "      <th>NOV</th>\n",
       "      <th>DEC</th>\n",
       "      <th>ANNUAL RAINFALL</th>\n",
       "      <th>FLOODS</th>\n",
       "    </tr>\n",
       "  </thead>\n",
       "  <tbody>\n",
       "    <tr>\n",
       "      <th>count</th>\n",
       "      <td>118.000000</td>\n",
       "      <td>118.000000</td>\n",
       "      <td>118.000000</td>\n",
       "      <td>118.000000</td>\n",
       "      <td>118.000000</td>\n",
       "      <td>118.000000</td>\n",
       "      <td>118.000000</td>\n",
       "      <td>118.000000</td>\n",
       "      <td>118.000000</td>\n",
       "      <td>118.000000</td>\n",
       "      <td>118.000000</td>\n",
       "      <td>118.000000</td>\n",
       "      <td>118.000000</td>\n",
       "      <td>118.000000</td>\n",
       "    </tr>\n",
       "    <tr>\n",
       "      <th>mean</th>\n",
       "      <td>12.218644</td>\n",
       "      <td>15.633898</td>\n",
       "      <td>36.670339</td>\n",
       "      <td>110.330508</td>\n",
       "      <td>228.644915</td>\n",
       "      <td>651.617797</td>\n",
       "      <td>698.220339</td>\n",
       "      <td>430.369492</td>\n",
       "      <td>246.207627</td>\n",
       "      <td>293.207627</td>\n",
       "      <td>162.311017</td>\n",
       "      <td>40.009322</td>\n",
       "      <td>2925.405085</td>\n",
       "      <td>0.508475</td>\n",
       "    </tr>\n",
       "    <tr>\n",
       "      <th>std</th>\n",
       "      <td>15.473766</td>\n",
       "      <td>16.406290</td>\n",
       "      <td>30.063862</td>\n",
       "      <td>44.633452</td>\n",
       "      <td>147.548778</td>\n",
       "      <td>186.181363</td>\n",
       "      <td>228.988966</td>\n",
       "      <td>181.980463</td>\n",
       "      <td>121.901131</td>\n",
       "      <td>93.705253</td>\n",
       "      <td>83.200485</td>\n",
       "      <td>36.676330</td>\n",
       "      <td>452.169407</td>\n",
       "      <td>0.502060</td>\n",
       "    </tr>\n",
       "    <tr>\n",
       "      <th>min</th>\n",
       "      <td>0.000000</td>\n",
       "      <td>0.000000</td>\n",
       "      <td>0.100000</td>\n",
       "      <td>13.100000</td>\n",
       "      <td>53.400000</td>\n",
       "      <td>196.800000</td>\n",
       "      <td>167.500000</td>\n",
       "      <td>178.600000</td>\n",
       "      <td>41.300000</td>\n",
       "      <td>68.500000</td>\n",
       "      <td>31.500000</td>\n",
       "      <td>0.100000</td>\n",
       "      <td>2068.800000</td>\n",
       "      <td>0.000000</td>\n",
       "    </tr>\n",
       "    <tr>\n",
       "      <th>25%</th>\n",
       "      <td>2.175000</td>\n",
       "      <td>4.700000</td>\n",
       "      <td>18.100000</td>\n",
       "      <td>74.350000</td>\n",
       "      <td>125.050000</td>\n",
       "      <td>535.550000</td>\n",
       "      <td>533.200000</td>\n",
       "      <td>316.725000</td>\n",
       "      <td>155.425000</td>\n",
       "      <td>222.125000</td>\n",
       "      <td>93.025000</td>\n",
       "      <td>10.350000</td>\n",
       "      <td>2613.525000</td>\n",
       "      <td>0.000000</td>\n",
       "    </tr>\n",
       "    <tr>\n",
       "      <th>50%</th>\n",
       "      <td>5.800000</td>\n",
       "      <td>8.350000</td>\n",
       "      <td>28.400000</td>\n",
       "      <td>110.400000</td>\n",
       "      <td>184.600000</td>\n",
       "      <td>625.600000</td>\n",
       "      <td>691.650000</td>\n",
       "      <td>386.250000</td>\n",
       "      <td>223.550000</td>\n",
       "      <td>284.300000</td>\n",
       "      <td>152.450000</td>\n",
       "      <td>31.100000</td>\n",
       "      <td>2934.300000</td>\n",
       "      <td>1.000000</td>\n",
       "    </tr>\n",
       "    <tr>\n",
       "      <th>75%</th>\n",
       "      <td>18.175000</td>\n",
       "      <td>21.400000</td>\n",
       "      <td>49.825000</td>\n",
       "      <td>136.450000</td>\n",
       "      <td>264.875000</td>\n",
       "      <td>786.975000</td>\n",
       "      <td>832.425000</td>\n",
       "      <td>500.100000</td>\n",
       "      <td>334.500000</td>\n",
       "      <td>355.150000</td>\n",
       "      <td>218.325000</td>\n",
       "      <td>54.025000</td>\n",
       "      <td>3170.400000</td>\n",
       "      <td>1.000000</td>\n",
       "    </tr>\n",
       "    <tr>\n",
       "      <th>max</th>\n",
       "      <td>83.500000</td>\n",
       "      <td>79.000000</td>\n",
       "      <td>217.200000</td>\n",
       "      <td>238.000000</td>\n",
       "      <td>738.800000</td>\n",
       "      <td>1098.200000</td>\n",
       "      <td>1526.500000</td>\n",
       "      <td>1398.900000</td>\n",
       "      <td>526.700000</td>\n",
       "      <td>567.900000</td>\n",
       "      <td>365.600000</td>\n",
       "      <td>202.300000</td>\n",
       "      <td>4473.000000</td>\n",
       "      <td>1.000000</td>\n",
       "    </tr>\n",
       "  </tbody>\n",
       "</table>\n",
       "</div>"
      ],
      "text/plain": [
       "              JAN         FEB         MAR         APR         MAY  \\\n",
       "count  118.000000  118.000000  118.000000  118.000000  118.000000   \n",
       "mean    12.218644   15.633898   36.670339  110.330508  228.644915   \n",
       "std     15.473766   16.406290   30.063862   44.633452  147.548778   \n",
       "min      0.000000    0.000000    0.100000   13.100000   53.400000   \n",
       "25%      2.175000    4.700000   18.100000   74.350000  125.050000   \n",
       "50%      5.800000    8.350000   28.400000  110.400000  184.600000   \n",
       "75%     18.175000   21.400000   49.825000  136.450000  264.875000   \n",
       "max     83.500000   79.000000  217.200000  238.000000  738.800000   \n",
       "\n",
       "               JUN          JUL          AUG         SEP         OCT  \\\n",
       "count   118.000000   118.000000   118.000000  118.000000  118.000000   \n",
       "mean    651.617797   698.220339   430.369492  246.207627  293.207627   \n",
       "std     186.181363   228.988966   181.980463  121.901131   93.705253   \n",
       "min     196.800000   167.500000   178.600000   41.300000   68.500000   \n",
       "25%     535.550000   533.200000   316.725000  155.425000  222.125000   \n",
       "50%     625.600000   691.650000   386.250000  223.550000  284.300000   \n",
       "75%     786.975000   832.425000   500.100000  334.500000  355.150000   \n",
       "max    1098.200000  1526.500000  1398.900000  526.700000  567.900000   \n",
       "\n",
       "              NOV         DEC   ANNUAL RAINFALL      FLOODS  \n",
       "count  118.000000  118.000000        118.000000  118.000000  \n",
       "mean   162.311017   40.009322       2925.405085    0.508475  \n",
       "std     83.200485   36.676330        452.169407    0.502060  \n",
       "min     31.500000    0.100000       2068.800000    0.000000  \n",
       "25%     93.025000   10.350000       2613.525000    0.000000  \n",
       "50%    152.450000   31.100000       2934.300000    1.000000  \n",
       "75%    218.325000   54.025000       3170.400000    1.000000  \n",
       "max    365.600000  202.300000       4473.000000    1.000000  "
      ]
     },
     "execution_count": 17,
     "metadata": {},
     "output_type": "execute_result"
    }
   ],
   "source": [
    "subData.describe()"
   ]
  },
  {
   "cell_type": "code",
   "execution_count": 5,
   "id": "8371ca55",
   "metadata": {},
   "outputs": [],
   "source": [
    "# Split data into X and y\n",
    "\n",
    "dfArr = subData.values # converting our dataframe into an array\n",
    "X = dfArr[:, 0:13]\n",
    "y = dfArr[:, 13]"
   ]
  },
  {
   "cell_type": "markdown",
   "id": "0c77e8c6",
   "metadata": {},
   "source": [
    "#### Support Vector Machine"
   ]
  },
  {
   "cell_type": "code",
   "execution_count": 6,
   "id": "f14fea1c",
   "metadata": {},
   "outputs": [
    {
     "name": "stdout",
     "output_type": "stream",
     "text": [
      "0 : 1.0\n",
      "2 : 0.9166666666666666\n",
      "4 : 0.9583333333333334\n",
      "6 : 0.9583333333333334\n",
      "8 : 0.9583333333333334\n",
      "12 : 0.9583333333333334\n"
     ]
    }
   ],
   "source": [
    "# Seeding, Building and training model\n",
    "seedSearch= [0,2,4,6,8,12]\n",
    "\n",
    "for seed1 in seedSearch:\n",
    "    Xtrain, Xtest, yTrain, yTest = train_test_split(X,y, test_size=0.2, random_state=seed1)\n",
    "    \n",
    "    svc = SVC(kernel='linear')\n",
    "    svc.fit(Xtrain, yTrain)\n",
    "    print(seed1, \":\", svc.score(Xtest, yTest))"
   ]
  },
  {
   "cell_type": "code",
   "execution_count": 7,
   "id": "32209b52",
   "metadata": {},
   "outputs": [
    {
     "name": "stdout",
     "output_type": "stream",
     "text": [
      "              precision    recall  f1-score   support\n",
      "\n",
      "         0.0       1.00      0.93      0.96        14\n",
      "         1.0       0.91      1.00      0.95        10\n",
      "\n",
      "    accuracy                           0.96        24\n",
      "   macro avg       0.95      0.96      0.96        24\n",
      "weighted avg       0.96      0.96      0.96        24\n",
      "\n",
      "[[13  1]\n",
      " [ 0 10]]\n",
      "SVC accuracy: 95.83%\n"
     ]
    }
   ],
   "source": [
    "Xtrain, Xtest, yTrain, yTest = train_test_split(X,y, test_size=0.2, random_state=4)\n",
    "    \n",
    "svc = SVC(kernel='linear')\n",
    "# fit the model\n",
    "svc.fit(Xtrain, yTrain)\n",
    "\n",
    "# Predict the performance\n",
    "y_pred = svc.predict(Xtest)\n",
    "\n",
    "print(classification_report(yTest, y_pred))\n",
    "print(confusion_matrix(yTest, y_pred))\n",
    "\n",
    "SVCAcc = accuracy_score(y_pred,yTest)\n",
    "print('SVC accuracy: {:.2f}%'.format(SVCAcc*100))"
   ]
  },
  {
   "cell_type": "code",
   "execution_count": 9,
   "id": "9f2286f9",
   "metadata": {},
   "outputs": [
    {
     "data": {
      "text/plain": [
       "Text(33.0, 0.5, 'Actual label')"
      ]
     },
     "execution_count": 9,
     "metadata": {},
     "output_type": "execute_result"
    },
    {
     "data": {
      "image/png": "[encoded data removed]",
      "text/plain": [
       "<Figure size 432x288 with 2 Axes>"
      ]
     },
     "metadata": {
      "needs_background": "light"
     },
     "output_type": "display_data"
    }
   ],
   "source": [
    "import seaborn as sb\n",
    "import matplotlib.pyplot as plt\n",
    "\n",
    "cm = confusion_matrix(yTest, y_pred)\n",
    "sb.heatmap(cm, annot=True, fmt='d')\n",
    "plt.xlabel('Predicted label')\n",
    "plt.ylabel('Actual label')"
   ]
  },
  {
   "cell_type": "code",
   "execution_count": null,
   "id": "f7844823",
   "metadata": {},
   "outputs": [],
   "source": [
    "We can infer that Support Vector Machine had an optimum performance of 95% with seed size of 4,6,8,12"
   ]
  },
  {
   "cell_type": "markdown",
   "id": "2ef23c6f",
   "metadata": {},
   "source": [
    "#### Logistic Regression"
   ]
  },
  {
   "cell_type": "code",
   "execution_count": 8,
   "id": "55f4a473",
   "metadata": {},
   "outputs": [
    {
     "name": "stdout",
     "output_type": "stream",
     "text": [
      "0 : 0.375\n",
      "2 : 0.375\n",
      "4 : 0.5\n",
      "6 : 0.5416666666666666\n",
      "8 : 0.625\n",
      "12 : 0.5416666666666666\n"
     ]
    }
   ],
   "source": [
    "# Seeding, Building and Training model\n",
    "\n",
    "seedSearch= [0,2,4,6,8,12]\n",
    "\n",
    "for seed2 in seedSearch:\n",
    "    Xtrain, Xtest, yTrain, yTest = train_test_split(X,y, test_size=0.2, random_state=seed2)\n",
    "    \n",
    "    LR = LogisticRegression()\n",
    "    LR.fit(Xtrain,yTrain)\n",
    "    print(seed2, \":\", LR.score(Xtest,yTest))"
   ]
  },
  {
   "cell_type": "code",
   "execution_count": 9,
   "id": "d558424c",
   "metadata": {},
   "outputs": [
    {
     "name": "stdout",
     "output_type": "stream",
     "text": [
      "              precision    recall  f1-score   support\n",
      "\n",
      "         0.0       0.78      0.50      0.61        14\n",
      "         1.0       0.53      0.80      0.64        10\n",
      "\n",
      "    accuracy                           0.62        24\n",
      "   macro avg       0.66      0.65      0.62        24\n",
      "weighted avg       0.68      0.62      0.62        24\n",
      "\n",
      "[[7 7]\n",
      " [2 8]]\n",
      "LR accuracy: 62.50%\n"
     ]
    }
   ],
   "source": [
    "Xtrain, Xtest, yTrain, yTest = train_test_split(X,y, test_size=0.2, random_state=8)\n",
    "LR = LogisticRegression()\n",
    "LR = LR.fit(Xtrain,yTrain)\n",
    "\n",
    "y_pred = LR.predict(Xtest)\n",
    "\n",
    "print(classification_report(yTest, y_pred))\n",
    "print(confusion_matrix(yTest, y_pred))\n",
    "LRAcc = accuracy_score(y_pred,yTest)\n",
    "print('LR accuracy: {:.2f}%'.format(LRAcc*100))"
   ]
  },
  {
   "cell_type": "code",
   "execution_count": 24,
   "id": "3063a337",
   "metadata": {},
   "outputs": [
    {
     "data": {
      "text/plain": [
       "Text(33.0, 0.5, 'Actual label')"
      ]
     },
     "execution_count": 24,
     "metadata": {},
     "output_type": "execute_result"
    },
    {
     "data": {
      "image/png": "[encoded data removed]",
      "text/plain": [
       "<Figure size 432x288 with 2 Axes>"
      ]
     },
     "metadata": {
      "needs_background": "light"
     },
     "output_type": "display_data"
    }
   ],
   "source": [
    "import seaborn as sb\n",
    "import matplotlib.pyplot as plt\n",
    "\n",
    "cm = confusion_matrix(yTest, y_pred)\n",
    "sb.heatmap(cm, annot=True, fmt='d')\n",
    "plt.xlabel('Predicted label')\n",
    "plt.ylabel('Actual label')"
   ]
  },
  {
   "cell_type": "code",
   "execution_count": null,
   "id": "9bf4757b",
   "metadata": {},
   "outputs": [],
   "source": [
    "We can infer that LogisticRegression has an optimum performance of 62% with seed size of 8."
   ]
  },
  {
   "cell_type": "markdown",
   "id": "2146052e",
   "metadata": {},
   "source": [
    "#### KNN"
   ]
  },
  {
   "cell_type": "code",
   "execution_count": 10,
   "id": "ecf73d71",
   "metadata": {},
   "outputs": [
    {
     "name": "stdout",
     "output_type": "stream",
     "text": [
      "0 : 0.9583333333333334\n",
      "2 : 1.0\n",
      "4 : 0.9583333333333334\n",
      "6 : 0.9166666666666666\n",
      "8 : 1.0\n",
      "12 : 0.9166666666666666\n",
      "14 : 0.875\n",
      "16 : 0.9583333333333334\n"
     ]
    }
   ],
   "source": [
    "# Seeding, Building and training model\n",
    "seedSearch= [0,2,4,6,8,12,14,16]\n",
    "\n",
    "for seed3 in seedSearch:\n",
    "    Xtrain, Xtest, yTrain, yTest = train_test_split(X,y, test_size=0.2, random_state=seed3)\n",
    "    \n",
    "    knn = neighbors.KNeighborsClassifier(n_neighbors=5)\n",
    "    knn.fit(Xtrain, yTrain)\n",
    "    print(seed3, \":\", knn.score(Xtest, yTest))"
   ]
  },
  {
   "cell_type": "code",
   "execution_count": 11,
   "id": "4014db17",
   "metadata": {},
   "outputs": [
    {
     "name": "stdout",
     "output_type": "stream",
     "text": [
      "              precision    recall  f1-score   support\n",
      "\n",
      "         0.0       1.00      1.00      1.00         8\n",
      "         1.0       1.00      1.00      1.00        16\n",
      "\n",
      "    accuracy                           1.00        24\n",
      "   macro avg       1.00      1.00      1.00        24\n",
      "weighted avg       1.00      1.00      1.00        24\n",
      "\n",
      "[[ 8  0]\n",
      " [ 0 16]]\n",
      "KNN accuracy: 100.00%\n"
     ]
    }
   ],
   "source": [
    "Xtrain, Xtest, yTrain, yTest = train_test_split(X,y, test_size=0.2, random_state=2)\n",
    "knn = neighbors.KNeighborsClassifier(n_neighbors=5,)\n",
    "knn.fit(Xtrain, yTrain)\n",
    "\n",
    "y_pred = knn.predict(Xtest)\n",
    "\n",
    "print(classification_report(yTest, y_pred))\n",
    "print(confusion_matrix(yTest, y_pred))\n",
    "knnAcc = accuracy_score(y_pred,yTest)\n",
    "print('KNN accuracy: {:.2f}%'.format(knnAcc*100))"
   ]
  },
  {
   "cell_type": "code",
   "execution_count": 26,
   "id": "940771bf",
   "metadata": {},
   "outputs": [
    {
     "data": {
      "text/plain": [
       "Text(33.0, 0.5, 'Actual label')"
      ]
     },
     "execution_count": 26,
     "metadata": {},
     "output_type": "execute_result"
    },
    {
     "data": {
      "image/png": "[encoded data removed]",
      "text/plain": [
       "<Figure size 432x288 with 2 Axes>"
      ]
     },
     "metadata": {
      "needs_background": "light"
     },
     "output_type": "display_data"
    }
   ],
   "source": [
    "import seaborn as sb\n",
    "import matplotlib.pyplot as plt\n",
    "\n",
    "cm = confusion_matrix(yTest, y_pred)\n",
    "sb.heatmap(cm, annot=True, fmt='d')\n",
    "plt.xlabel('Predicted label')\n",
    "plt.ylabel('Actual label')"
   ]
  },
  {
   "cell_type": "code",
   "execution_count": null,
   "id": "daa7199b",
   "metadata": {},
   "outputs": [],
   "source": [
    "We can infer that KNN had an optimum performance of 100% with seed size of 2 "
   ]
  },
  {
   "cell_type": "markdown",
   "id": "f2b5cba6",
   "metadata": {},
   "source": [
    "#### RandomForest"
   ]
  },
  {
   "cell_type": "code",
   "execution_count": 12,
   "id": "462e0964",
   "metadata": {},
   "outputs": [
    {
     "name": "stdout",
     "output_type": "stream",
     "text": [
      "0 : 1.0\n",
      "2 : 1.0\n",
      "4 : 0.9583333333333334\n",
      "8 : 0.9583333333333334\n",
      "12 : 0.9583333333333334\n",
      "42 : 1.0\n"
     ]
    }
   ],
   "source": [
    "# Seeding, Building and Training model\n",
    "\n",
    "seedSearch= [0,2,4,8,12,42]\n",
    "\n",
    "for seed4 in seedSearch:\n",
    "    Xtrain, Xtest, yTrain, yTest = train_test_split(X,y, test_size=0.2, random_state=seed4)\n",
    "    \n",
    "    RF = RandomForestClassifier(n_estimators=100)\n",
    "    RF.fit(Xtrain,yTrain)\n",
    "    print(seed4, \":\", RF.score(Xtest,yTest))"
   ]
  },
  {
   "cell_type": "code",
   "execution_count": 13,
   "id": "16faaba3",
   "metadata": {},
   "outputs": [
    {
     "name": "stdout",
     "output_type": "stream",
     "text": [
      "              precision    recall  f1-score   support\n",
      "\n",
      "         0.0       1.00      1.00      1.00        10\n",
      "         1.0       1.00      1.00      1.00        14\n",
      "\n",
      "    accuracy                           1.00        24\n",
      "   macro avg       1.00      1.00      1.00        24\n",
      "weighted avg       1.00      1.00      1.00        24\n",
      "\n",
      "[[10  0]\n",
      " [ 0 14]]\n",
      "RF accuracy: 100.00%\n"
     ]
    }
   ],
   "source": [
    "RF = RandomForestClassifier(n_estimators=100, random_state=0)\n",
    "RF.fit(Xtrain,yTrain)\n",
    "\n",
    "y_pred = RF.predict(Xtest)\n",
    "\n",
    "print(classification_report(yTest, y_pred))\n",
    "print(confusion_matrix(yTest, y_pred))\n",
    "RFAcc = accuracy_score(y_pred,yTest)\n",
    "print('RF accuracy: {:.2f}%'.format(RFAcc*100))"
   ]
  },
  {
   "cell_type": "code",
   "execution_count": 28,
   "id": "6d4a2c58",
   "metadata": {},
   "outputs": [
    {
     "data": {
      "text/plain": [
       "Text(33.0, 0.5, 'Actual label')"
      ]
     },
     "execution_count": 28,
     "metadata": {},
     "output_type": "execute_result"
    },
    {
     "data": {
      "image/png": "[encoded data removed]",
      "text/plain": [
       "<Figure size 432x288 with 2 Axes>"
      ]
     },
     "metadata": {
      "needs_background": "light"
     },
     "output_type": "display_data"
    }
   ],
   "source": [
    "import seaborn as sb\n",
    "import matplotlib.pyplot as plt\n",
    "\n",
    "cm = confusion_matrix(yTest, y_pred)\n",
    "sb.heatmap(cm, annot=True, fmt='d')\n",
    "plt.xlabel('Predicted label')\n",
    "plt.ylabel('Actual label')"
   ]
  },
  {
   "cell_type": "code",
   "execution_count": null,
   "id": "9ff1c7f2",
   "metadata": {},
   "outputs": [],
   "source": [
    "We can infer that RF had an optimum performance of 100% with seed size of 0,2 & 42 respectively "
   ]
  },
  {
   "cell_type": "markdown",
   "id": "381c90c2",
   "metadata": {},
   "source": [
    "#### Gradient Boosting"
   ]
  },
  {
   "cell_type": "code",
   "execution_count": 14,
   "id": "8d6095c3",
   "metadata": {},
   "outputs": [
    {
     "name": "stdout",
     "output_type": "stream",
     "text": [
      "0 : 1.0\n",
      "2 : 1.0\n",
      "4 : 0.9583333333333334\n",
      "6 : 0.9583333333333334\n",
      "8 : 0.9583333333333334\n",
      "12 : 0.9166666666666666\n"
     ]
    }
   ],
   "source": [
    "# Seeding, Building and training model\n",
    "seedSearch= [0,2,4,6,8,12]\n",
    "\n",
    "for seed5 in seedSearch:\n",
    "    Xtrain, Xtest, yTrain, yTest = train_test_split(X,y, test_size=0.2, random_state=seed5)\n",
    "    \n",
    "    GB = GradientBoostingClassifier(n_estimators=100)\n",
    "    GB.fit(Xtrain, yTrain)\n",
    "    print(seed5, \":\", GB.score(Xtest, yTest))"
   ]
  },
  {
   "cell_type": "code",
   "execution_count": 15,
   "id": "df08d28b",
   "metadata": {},
   "outputs": [
    {
     "name": "stdout",
     "output_type": "stream",
     "text": [
      "              precision    recall  f1-score   support\n",
      "\n",
      "         0.0       1.00      1.00      1.00        16\n",
      "         1.0       1.00      1.00      1.00         8\n",
      "\n",
      "    accuracy                           1.00        24\n",
      "   macro avg       1.00      1.00      1.00        24\n",
      "weighted avg       1.00      1.00      1.00        24\n",
      "\n",
      "[[16  0]\n",
      " [ 0  8]]\n",
      "GB accuracy: 100.00%\n"
     ]
    }
   ],
   "source": [
    "Xtrain, Xtest, yTrain, yTest = train_test_split(X,y, test_size=0.2, random_state=0)\n",
    "GB = GradientBoostingClassifier(n_estimators=100)\n",
    "GB.fit(Xtrain, yTrain)\n",
    "\n",
    "y_pred = GB.predict(Xtest)\n",
    "\n",
    "print(classification_report(yTest, y_pred))\n",
    "print(confusion_matrix(yTest, y_pred))\n",
    "GBAcc = accuracy_score(y_pred,yTest)\n",
    "print('GB accuracy: {:.2f}%'.format(GBAcc*100))"
   ]
  },
  {
   "cell_type": "code",
   "execution_count": 30,
   "id": "1b6258e1",
   "metadata": {},
   "outputs": [
    {
     "data": {
      "text/plain": [
       "Text(33.0, 0.5, 'Actual label')"
      ]
     },
     "execution_count": 30,
     "metadata": {},
     "output_type": "execute_result"
    },
    {
     "data": {
      "image/png": "[encoded data removed]",
      "text/plain": [
       "<Figure size 432x288 with 2 Axes>"
      ]
     },
     "metadata": {
      "needs_background": "light"
     },
     "output_type": "display_data"
    }
   ],
   "source": [
    "import seaborn as sb\n",
    "import matplotlib.pyplot as plt\n",
    "\n",
    "cm = confusion_matrix(yTest, y_pred)\n",
    "sb.heatmap(cm, annot=True, fmt='d')\n",
    "plt.xlabel('Predicted label')\n",
    "plt.ylabel('Actual label')"
   ]
  },
  {
   "cell_type": "code",
   "execution_count": null,
   "id": "09bba0f0",
   "metadata": {},
   "outputs": [],
   "source": [
    "We can infer that GB had an optimum performance of 100% with seed size of 0 & 2 respectively "
   ]
  },
  {
   "cell_type": "markdown",
   "id": "b7febc9c",
   "metadata": {},
   "source": [
    "### Model Comparison"
   ]
  },
  {
   "cell_type": "code",
   "execution_count": 18,
   "id": "52f58f1e",
   "metadata": {},
   "outputs": [
    {
     "data": {
      "text/html": [
       "<div>\n",
       "<style scoped>\n",
       "    .dataframe tbody tr th:only-of-type {\n",
       "        vertical-align: middle;\n",
       "    }\n",
       "\n",
       "    .dataframe tbody tr th {\n",
       "        vertical-align: top;\n",
       "    }\n",
       "\n",
       "    .dataframe thead th {\n",
       "        text-align: right;\n",
       "    }\n",
       "</style>\n",
       "<table border=\"1\" class=\"dataframe\">\n",
       "  <thead>\n",
       "    <tr style=\"text-align: right;\">\n",
       "      <th></th>\n",
       "      <th>Model</th>\n",
       "      <th>Accuracy</th>\n",
       "    </tr>\n",
       "  </thead>\n",
       "  <tbody>\n",
       "    <tr>\n",
       "      <th>2</th>\n",
       "      <td>K Nearest Neighbor</td>\n",
       "      <td>100.000000</td>\n",
       "    </tr>\n",
       "    <tr>\n",
       "      <th>3</th>\n",
       "      <td>RandomForest</td>\n",
       "      <td>100.000000</td>\n",
       "    </tr>\n",
       "    <tr>\n",
       "      <th>4</th>\n",
       "      <td>Gradient Boosting</td>\n",
       "      <td>100.000000</td>\n",
       "    </tr>\n",
       "    <tr>\n",
       "      <th>0</th>\n",
       "      <td>Support Vector Machine</td>\n",
       "      <td>95.833333</td>\n",
       "    </tr>\n",
       "    <tr>\n",
       "      <th>1</th>\n",
       "      <td>Logistic Regression</td>\n",
       "      <td>62.500000</td>\n",
       "    </tr>\n",
       "  </tbody>\n",
       "</table>\n",
       "</div>"
      ],
      "text/plain": [
       "                    Model    Accuracy\n",
       "2      K Nearest Neighbor  100.000000\n",
       "3            RandomForest  100.000000\n",
       "4       Gradient Boosting  100.000000\n",
       "0  Support Vector Machine   95.833333\n",
       "1     Logistic Regression   62.500000"
      ]
     },
     "execution_count": 18,
     "metadata": {},
     "output_type": "execute_result"
    }
   ],
   "source": [
    "CompAlg = pd.DataFrame({'Model': ['Support Vector Machine', 'Logistic Regression', 'K Nearest Neighbor', 'RandomForest', \n",
    "                                  'Gradient Boosting' ],\n",
    "                        'Accuracy': [SVCAcc*100, LRAcc*100, knnAcc*100, RFAcc*100, GBAcc*100]})\n",
    "CompAlg.sort_values(by='Accuracy', ascending=False)"
   ]
  },
  {
   "cell_type": "code",
   "execution_count": null,
   "id": "5a14e554",
   "metadata": {},
   "outputs": [],
   "source": [
    "REPORT\n",
    "\n",
    "We can infer that Support Vector Machine had an optimum performance of 95% with seed size of 4,6,8,12.\n",
    "LogisticRegression has an optimum performance of 62% with seed size of 8.\n",
    "KNN had an optimum performance of 100% with seed size of 2.\n",
    "RandomForest had an optimum performance of 100% with seed size of 0,2 & 42 respectively.\n",
    "Gradient Boosting had an optimum performance of 100% with seed size of 0 & 2 respectively.\n",
    "\n",
    "We can deduce that K Nearest Neighbor, Random Forest and Gradient Boosting had an accuracy of 100% with a sample size of 118."
   ]
  }
 ],
 "metadata": {
  "kernelspec": {
   "display_name": "Python 3",
   "language": "python",
   "name": "python3"
  },
  "language_info": {
   "codemirror_mode": {
    "name": "ipython",
    "version": 3
   },
   "file_extension": ".py",
   "mimetype": "text/x-python",
   "name": "python",
   "nbconvert_exporter": "python",
   "pygments_lexer": "ipython3",
   "version": "3.8.8"
  }
 },
 "nbformat": 4,
 "nbformat_minor": 5
}
